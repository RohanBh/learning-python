{
 "cells": [
  {
   "cell_type": "markdown",
   "metadata": {},
   "source": [
    "# Under Which Cup?"
   ]
  },
  {
   "cell_type": "markdown",
   "metadata": {},
   "source": [
    "I found [this](https://www.braingle.com/brainteasers/48900/under-which-cup.html) puzzle on [Braingle](https://www.braingle.com/).\n",
    "\n",
    "> You decide to play a game with your friend where your friend places a coin under one of three cups. Your friend would then switch the positions of two of the cups several times so that the coin under one of the cups moves with the cup it is under. You would then select the cup that you think the coin is under. If you won, you would receive the coin, but if you lost, you would have to pay.\n",
    "\n",
    "> As the game starts, you realise that you are really tired, and you don't focus very well on the moving of the cups. When your friend stops moving the cups and asks you where the coin is, you only remember a few things:\n",
    "\n",
    "> He put the coin in the rightmost cup at the start.\n",
    "\n",
    "> He switched two of the cups 3 times.\n",
    "\n",
    "> The first time he switched two of the cups, the rightmost one was switched with another.\n",
    "\n",
    "> The second time he switched two of the cups, the rightmost one was not touched.\n",
    "\n",
    "> The third and last time he switched two of the cups, the rightmost one was switched with another.\n",
    "\n",
    "> You don't want to end up paying your friend, so, using your head, you try to work out which cup is most likely to hold the coin, using the information you remember.\n",
    "\n",
    "> Which cup is most likely to hold the coin?"
   ]
  },
  {
   "cell_type": "markdown",
   "metadata": {},
   "source": [
    "## Analysis\n",
    "\n",
    "This is a classic [cup shuffle game][1] in which the magician shifts the coin from one cup to another while shuffling them. Luckily, in this instance of the game, our friend didn't resort to trickery. Although, we still can't tell which cup holds the coin accurately as our memory failed us.\n",
    "\n",
    "Hmm. So, let's start by listing what we know and how can we approach the problem:\n",
    "\n",
    "* Since, we do not have complete information about our environment (game), this problem is an example of [partially observable environment][2]. \n",
    "* To deal with partial observability we make use of the notion of belief states. Fully observable environments use black boxes called states to keep track of changes happening in the environment. Belief states are the sets of all the possible states an environment can be in at a particular time.\n",
    "* The states in this game can be one of the following:\n",
    "      \n",
    "      {Coin, Empty, Empty}, {Empty, Coin, Empty}, {Empty, Empty, Coin}\n",
    "\n",
    "* For an environment which exhibit n different states, the belief state could be as big as 2^n. But since in this problem n equals 3, we face no issues related to the size and storage of the belief state. An example of belief state is:\n",
    "\n",
    "      {{Coin, Empty, Empty}, {Empty, Empty, Coin}}\n",
    "    \n",
    "* We can also define a \"move\" as a deliberate action by an agent made which possibly alters the belief state. In this game, the moves are made by our friend and each move switches two cups, possibly moving the coin and hence changing the true state.\n",
    "* Consider an example in which the actual state of the game is:\n",
    "\n",
    "      {Coin, Empty, Empty}\n",
    "    \n",
    "  If a move is made that switches the 1st and the 2nd cup the new state will be:\n",
    "  \n",
    "      {Empty, Coin, Empty}\n",
    "      \n",
    "  Also, notice that a move made that switches the 1st and the 3rd cup does not change the state of the game.\n",
    "* Since, the final answer will be based on the likelihood of the coin being under a certain cup, we'll also need to define a [probability model][3] for the game. We'll use the [discrete uniform distribution][4] as our probability model as all the states in the belief state for this game seem to be equally likely (there is no information given that says otherwise)\n",
    "\n",
    "\n",
    "[1]: https://www.google.com/search?client=ubuntu&hs=l7S&channel=fs&ei=xhghW-_tK4W5swG8ybHgCQ&q=cup+shuffle&oq=cup+shuffle&gs_l=psy-ab.3..0i71k1l8.8262.8262.0.8483.1.1.0.0.0.0.0.0..0.0....0...1.1.64.psy-ab..1.0.0....0.ZAEO0ap0dbI\n",
    "[2]: https://en.wikipedia.org/wiki/Partially_observable_system\n",
    "[3]: http://www.stat.yale.edu/Courses/1997-98/101/probint.htm\n",
    "[4]: https://en.wikipedia.org/wiki/Discrete_uniform_distribution"
   ]
  },
  {
   "cell_type": "markdown",
   "metadata": {},
   "source": [
    "## Data Structures\n",
    "\n",
    "This section will list all the data structures we'll be needing for the program.\n"
   ]
  }
 ],
 "metadata": {
  "kernelspec": {
   "display_name": "Python 3",
   "language": "python",
   "name": "python3"
  },
  "language_info": {
   "codemirror_mode": {
    "name": "ipython",
    "version": 3
   },
   "file_extension": ".py",
   "mimetype": "text/x-python",
   "name": "python",
   "nbconvert_exporter": "python",
   "pygments_lexer": "ipython3",
   "version": "3.6.4"
  }
 },
 "nbformat": 4,
 "nbformat_minor": 2
}
