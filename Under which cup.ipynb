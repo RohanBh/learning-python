{
 "cells": [
  {
   "cell_type": "markdown",
   "metadata": {},
   "source": [
    "# Under Which Cup?"
   ]
  },
  {
   "cell_type": "markdown",
   "metadata": {},
   "source": [
    "I found [this](https://www.braingle.com/brainteasers/48900/under-which-cup.html) puzzle on [Braingle](https://www.braingle.com/).\n",
    "\n",
    "> You decide to play a game with your friend where your friend places a coin under one of three cups. Your friend would then switch the positions of two of the cups several times so that the coin under one of the cups moves with the cup it is under. You would then select the cup that you think the coin is under. If you won, you would receive the coin, but if you lost, you would have to pay.\n",
    "\n",
    "> As the game starts, you realise that you are really tired, and you don't focus very well on the moving of the cups. When your friend stops moving the cups and asks you where the coin is, you only remember a few things:\n",
    "\n",
    "> He put the coin in the rightmost cup at the start.\n",
    "\n",
    "> He switched two of the cups 3 times.\n",
    "\n",
    "> The first time he switched two of the cups, the rightmost one was switched with another.\n",
    "\n",
    "> The second time he switched two of the cups, the rightmost one was not touched.\n",
    "\n",
    "> The third and last time he switched two of the cups, the rightmost one was switched with another.\n",
    "\n",
    "> You don't want to end up paying your friend, so, using your head, you try to work out which cup is most likely to hold the coin, using the information you remember.\n",
    "\n",
    "> Which cup is most likely to hold the coin?"
   ]
  },
  {
   "cell_type": "markdown",
   "metadata": {},
   "source": [
    "## Analysis\n",
    "\n",
    "This is a classic [cup shuffle game][1] in which the magician shifts the coin from one cup to another while shuffling them. Luckily, in this instance of the game, our friend didn't resort to trickery. Although, we still can't tell which cup holds the coin accurately as our memory failed us.\n",
    "\n",
    "Hmm. So, let's start by listing what we know and how can we approach the problem:\n",
    "\n",
    "* Since, we do not have complete information about our environment (game), this problem is an example of [partially observable environment][2]. \n",
    "* To deal with partial observability we make use of the notion of belief states. Fully observable environments use black boxes called states to keep track of changes happening in the environment. Belief states are the sets of all the possible states an environment can be in at a particular time.\n",
    "* The states in this game can be one of the following:\n",
    "      \n",
    "      {Coin, Empty, Empty}, {Empty, Coin, Empty}, {Empty, Empty, Coin}\n",
    "\n",
    "* For an environment which exhibit n different states, the belief state could be as big as 2^n. But since in this problem n equals 3, we face no issues related to the size and storage of the belief state. An example of belief state is:\n",
    "\n",
    "      {{Coin, Empty, Empty}, {Empty, Empty, Coin}}\n",
    "    \n",
    "* We can also define a \"move\" as a deliberate action by an agent made which possibly alters the belief state. In this game, the moves are made by our friend and each move switches two cups, possibly moving the coin and hence changing the true state.\n",
    "* Consider an example in which the actual state of the game is:\n",
    "\n",
    "      {Coin, Empty, Empty}\n",
    "    \n",
    "  If a move is made that switches the 1st and the 2nd cup the new state will be:\n",
    "  \n",
    "      {Empty, Coin, Empty}\n",
    "      \n",
    "  Also, notice that a move made that switches the 1st and the 3rd cup does not change the state of the game.\n",
    "* Normally, a belief state is a result of an \"action\" performed on the previous belief state. In this case, our belief state is also affected by all the different moves applied to previous belief. Hence, the belief state in this game can be thought of as a set of ordinary belief states. We can implement this with the use of the \"List\" data structure. It will help us to keep track of the likelihood with which a state can occur (Or the different ways in which state can occur).\n",
    "* Since, the final answer will be based on the likelihood of the coin being under a certain cup, we'll also need to define a [probability model][3] for the game. We'll use the [discrete uniform distribution][4] as our probability model as all the states in the belief state for this game seem to be equally likely (there is no information given that says otherwise)\n",
    "\n",
    "\n",
    "[1]: https://www.google.com/search?client=ubuntu&hs=l7S&channel=fs&ei=xhghW-_tK4W5swG8ybHgCQ&q=cup+shuffle&oq=cup+shuffle&gs_l=psy-ab.3..0i71k1l8.8262.8262.0.8483.1.1.0.0.0.0.0.0..0.0....0...1.1.64.psy-ab..1.0.0....0.ZAEO0ap0dbI\n",
    "[2]: https://en.wikipedia.org/wiki/Partially_observable_system\n",
    "[3]: http://www.stat.yale.edu/Courses/1997-98/101/probint.htm\n",
    "[4]: https://en.wikipedia.org/wiki/Discrete_uniform_distribution"
   ]
  },
  {
   "cell_type": "markdown",
   "metadata": {},
   "source": [
    "## Data Structures\n",
    "\n",
    "This section will list all the data structures we'll be needing for the program.\n",
    "* Coin: A str representing presence of coin in a cup in a State.\n",
    "* Empty: A str representing absence of coin in a cup in a State.\n",
    "* State: A str that is of type 'CEE' indicating presence and absence of coin in each cup.\n",
    "* BeliefState: A list of possible States that we believe the environment is in.\n",
    "* Move: An ordered pair of int that indicates the cups to swap."
   ]
  },
  {
   "cell_type": "code",
   "execution_count": 1,
   "metadata": {},
   "outputs": [],
   "source": [
    "from typing import Tuple, List\n",
    "from itertools import permutations, chain, combinations\n",
    "from functools import partial\n",
    "from fractions import Fraction\n",
    "\n",
    "State = Tuple[str, str, str] # A Tuple representing state of the world, e.g. ('Coin', 'Empty', 'Empty')\n",
    "BeliefState = List[State] # A list of State that represents our belief\n",
    "Move = Tuple[int, int] # An ordered pair of int that tells which cups to swap, e.g. {0, 2} swaps first and last cups\n",
    "Probability = Fraction\n",
    "\n",
    "Coin = 'Coin'\n",
    "Empty = 'Empty'"
   ]
  },
  {
   "cell_type": "markdown",
   "metadata": {},
   "source": [
    "## Functions\n",
    "\n",
    "This sections defines all the basic functions we will need to operate on the defined data structures.\n",
    "\n",
    "* all_states(): returns a list of all possible states\n",
    "* all_belief_states(): returns a list of all possible belief states\n",
    "* all_moves(): returns a list of all possible moves\n",
    "* swap(state, move): takes a state as input and returns new state by applying the given move\n",
    "* update(belief_state, move): takes a belief state and applies a move returning the updated belief_state. "
   ]
  },
  {
   "cell_type": "code",
   "execution_count": 2,
   "metadata": {},
   "outputs": [],
   "source": [
    "def all_states() -> [State]:\n",
    "    \"\"\"Lists out all possible states in the game\"\"\"\n",
    "    return list(set(permutations((Coin, Empty, Empty))))\n",
    "\n",
    "def all_belief_states() -> [BeliefState]:\n",
    "    \"\"\"List out all possible belief states in the game\"\"\"\n",
    "    return list(set(i) for i in powerset(all_states()))\n",
    "\n",
    "def all_moves() -> [Move]:\n",
    "    \"\"\"List out all possible moves that can be made by our friend\"\"\"\n",
    "    return list(permutations((0, 1, 2), 2))\n",
    "\n",
    "def swap(state: State, move: Move) -> State:\n",
    "    \"\"\"Returns a new state by applying the move to current state\"\"\"\n",
    "    mutable_list = list(state)\n",
    "    mutable_list[move[0]] = state[move[1]]\n",
    "    mutable_list[move[1]] = state[move[0]]\n",
    "    return tuple(mutable_list)\n",
    "\n",
    "def update(belief_state: BeliefState, move: Move) -> BeliefState:\n",
    "    \"\"\"Returns an updated belief state after applying the move\"\"\"\n",
    "    apply_move = partial(swap, move=move)\n",
    "    return list(map(apply_move, belief_state))\n",
    "\n",
    "def powerset(iterable):\n",
    "    \"\"\"\n",
    "    https://docs.python.org/3.6/library/itertools.html#itertools-recipes\n",
    "    powerset([1,2,3]) --> () (1,) (2,) (3,) (1,2) (1,3) (2,3) (1,2,3)\n",
    "    \"\"\"\n",
    "    s = list(iterable)\n",
    "    return chain.from_iterable(combinations(s, r) for r in range(len(s)+1))"
   ]
  },
  {
   "cell_type": "markdown",
   "metadata": {},
   "source": [
    "Let's check if these work correctly."
   ]
  },
  {
   "cell_type": "code",
   "execution_count": 3,
   "metadata": {},
   "outputs": [
    {
     "data": {
      "text/plain": [
       "[('Empty', 'Empty', 'Coin'),\n",
       " ('Empty', 'Coin', 'Empty'),\n",
       " ('Coin', 'Empty', 'Empty')]"
      ]
     },
     "execution_count": 3,
     "metadata": {},
     "output_type": "execute_result"
    }
   ],
   "source": [
    "all_states()"
   ]
  },
  {
   "cell_type": "code",
   "execution_count": 4,
   "metadata": {},
   "outputs": [
    {
     "data": {
      "text/plain": [
       "[set(),\n",
       " {('Empty', 'Empty', 'Coin')},\n",
       " {('Empty', 'Coin', 'Empty')},\n",
       " {('Coin', 'Empty', 'Empty')},\n",
       " {('Empty', 'Coin', 'Empty'), ('Empty', 'Empty', 'Coin')},\n",
       " {('Coin', 'Empty', 'Empty'), ('Empty', 'Empty', 'Coin')},\n",
       " {('Coin', 'Empty', 'Empty'), ('Empty', 'Coin', 'Empty')},\n",
       " {('Coin', 'Empty', 'Empty'),\n",
       "  ('Empty', 'Coin', 'Empty'),\n",
       "  ('Empty', 'Empty', 'Coin')}]"
      ]
     },
     "execution_count": 4,
     "metadata": {},
     "output_type": "execute_result"
    }
   ],
   "source": [
    "all_belief_states()"
   ]
  },
  {
   "cell_type": "code",
   "execution_count": 5,
   "metadata": {},
   "outputs": [
    {
     "data": {
      "text/plain": [
       "[(0, 1), (0, 2), (1, 0), (1, 2), (2, 0), (2, 1)]"
      ]
     },
     "execution_count": 5,
     "metadata": {},
     "output_type": "execute_result"
    }
   ],
   "source": [
    "all_moves()"
   ]
  },
  {
   "cell_type": "code",
   "execution_count": 6,
   "metadata": {},
   "outputs": [
    {
     "data": {
      "text/plain": [
       "('Empty', 'Coin', 'Empty')"
      ]
     },
     "execution_count": 6,
     "metadata": {},
     "output_type": "execute_result"
    }
   ],
   "source": [
    "old_state = ('Coin', 'Empty', 'Empty')\n",
    "move = (0, 1)\n",
    "swap(old_state, move)"
   ]
  },
  {
   "cell_type": "code",
   "execution_count": 7,
   "metadata": {},
   "outputs": [
    {
     "data": {
      "text/plain": [
       "[('Empty', 'Coin', 'Empty'), ('Empty', 'Empty', 'Coin')]"
      ]
     },
     "execution_count": 7,
     "metadata": {},
     "output_type": "execute_result"
    }
   ],
   "source": [
    "belief = {('Coin', 'Empty', 'Empty'), ('Empty', 'Coin', 'Empty')}\n",
    "move = (0, 2)\n",
    "update(belief, move)"
   ]
  },
  {
   "cell_type": "markdown",
   "metadata": {},
   "source": [
    "Alright! The basic functions are working perfectly. Now, let's move on to the solving part."
   ]
  },
  {
   "cell_type": "markdown",
   "metadata": {},
   "source": [
    "## Solution"
   ]
  },
  {
   "cell_type": "markdown",
   "metadata": {},
   "source": [
    "#### He put the coin in the rightmost cup at the start."
   ]
  },
  {
   "cell_type": "code",
   "execution_count": 8,
   "metadata": {},
   "outputs": [],
   "source": [
    "belief = {('Empty', 'Empty', 'Coin')}"
   ]
  },
  {
   "cell_type": "markdown",
   "metadata": {},
   "source": [
    "#### The first time he switched two of the cups, the rightmost one was switched with another."
   ]
  },
  {
   "cell_type": "code",
   "execution_count": 9,
   "metadata": {},
   "outputs": [],
   "source": [
    "belief = update(belief, (2, 0)) + update(belief, (2, 1))"
   ]
  },
  {
   "cell_type": "code",
   "execution_count": 10,
   "metadata": {},
   "outputs": [
    {
     "data": {
      "text/plain": [
       "[('Coin', 'Empty', 'Empty'), ('Empty', 'Coin', 'Empty')]"
      ]
     },
     "execution_count": 10,
     "metadata": {},
     "output_type": "execute_result"
    }
   ],
   "source": [
    "belief"
   ]
  },
  {
   "cell_type": "markdown",
   "metadata": {},
   "source": [
    "#### The second time he switched two of the cups, the rightmost one was not touched."
   ]
  },
  {
   "cell_type": "code",
   "execution_count": 11,
   "metadata": {},
   "outputs": [],
   "source": [
    "move = (0, 1)\n",
    "belief = update(belief, move)"
   ]
  },
  {
   "cell_type": "code",
   "execution_count": 12,
   "metadata": {},
   "outputs": [
    {
     "data": {
      "text/plain": [
       "[('Empty', 'Coin', 'Empty'), ('Coin', 'Empty', 'Empty')]"
      ]
     },
     "execution_count": 12,
     "metadata": {},
     "output_type": "execute_result"
    }
   ],
   "source": [
    "belief"
   ]
  },
  {
   "cell_type": "markdown",
   "metadata": {},
   "source": [
    "#### The third and last time he switched two of the cups, the rightmost one was switched with another."
   ]
  },
  {
   "cell_type": "code",
   "execution_count": 13,
   "metadata": {},
   "outputs": [],
   "source": [
    "belief = update(belief, (2, 0)) + update(belief, (2, 1))"
   ]
  },
  {
   "cell_type": "code",
   "execution_count": 14,
   "metadata": {},
   "outputs": [
    {
     "data": {
      "text/plain": [
       "[('Empty', 'Coin', 'Empty'),\n",
       " ('Empty', 'Empty', 'Coin'),\n",
       " ('Empty', 'Empty', 'Coin'),\n",
       " ('Coin', 'Empty', 'Empty')]"
      ]
     },
     "execution_count": 14,
     "metadata": {},
     "output_type": "execute_result"
    }
   ],
   "source": [
    "belief"
   ]
  },
  {
   "cell_type": "markdown",
   "metadata": {},
   "source": [
    "So, in the end we see that the state where the coin is in the third cup is twice more likely to occur compared to other states."
   ]
  }
 ],
 "metadata": {
  "kernelspec": {
   "display_name": "Python 3",
   "language": "python",
   "name": "python3"
  },
  "language_info": {
   "codemirror_mode": {
    "name": "ipython",
    "version": 3
   },
   "file_extension": ".py",
   "mimetype": "text/x-python",
   "name": "python",
   "nbconvert_exporter": "python",
   "pygments_lexer": "ipython3",
   "version": "3.6.7"
  }
 },
 "nbformat": 4,
 "nbformat_minor": 2
}
