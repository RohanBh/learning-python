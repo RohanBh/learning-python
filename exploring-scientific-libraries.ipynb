{
 "cells": [
  {
   "cell_type": "markdown",
   "metadata": {},
   "source": [
    "# Python's scientific libraries"
   ]
  },
  {
   "cell_type": "markdown",
   "metadata": {},
   "source": [
    "Following is my attempt to interactively learn how to use popular libraries like numpy, scipy, matplotlib, etc. I will code and try to explore various APIs provided by these awesome libraries."
   ]
  },
  {
   "cell_type": "markdown",
   "metadata": {},
   "source": [
    "## What is NumPy?"
   ]
  },
  {
   "cell_type": "markdown",
   "metadata": {},
   "source": [
    "NumPy is a python library for scientific computations. It provides multidimensional array support with fast operarions on it using compiled C code. NumPy arrays are instances of `ndarray` which are homogenous multidimensional arrays."
   ]
  },
  {
   "cell_type": "markdown",
   "metadata": {},
   "source": [
    "## Features of NumPy"
   ]
  },
  {
   "cell_type": "markdown",
   "metadata": {},
   "source": [
    "1. ##### Vectorization\n",
    "In numpy, most of the code resembles standard mathematical operations rather than be composed of messy `for loops`. For example, the product of two arrays in numpy is taken as follows:\n",
    "$$c = a * b$$\n",
    "Where c is the resultant array with $c[i] = a[i] * b[i]$.\n",
    "2. ##### Broadcasting\n",
    "Operations in numpy are of implicit element by element type as seen above. It refers to how numpy performs operations between arrays of different shapes. To do this, numpy broadcasts the smaller array to make it compatible with the larger one following the rules mentioned [here][1].\n",
    "\n",
    "[1]: https://docs.scipy.org/doc/numpy/user/basics.broadcasting.html#module-numpy.doc.broadcasting"
   ]
  },
  {
   "cell_type": "markdown",
   "metadata": {},
   "source": [
    "## Terminologies"
   ]
  },
  {
   "cell_type": "markdown",
   "metadata": {},
   "source": [
    "1. NumPy arrays known as ndarray are also aliased by the name **array**.\n",
    "2. The dimensions are referred to as **axes**.\n",
    "3. An array that refers to another array’s data instead is called a **view**. For example, we may create a view that only shows every second element of another array. It is better known as shallow copy to Java programmers. This is akin to SQL's views.\n",
    "4. Any sequence that can be interpreted as an ndarray is called **array_like**. This includes nested lists, tuples, scalars and existing arrays.\n",
    "5. **C type** array are stored as row major. **Fortran type** arrays are the opposite, stored as column major. In row major form, the rightmost index/dimension refers to the integers stored in the array"
   ]
  },
  {
   "cell_type": "markdown",
   "metadata": {},
   "source": [
    "## Basics\n",
    "Let's start with some basic code."
   ]
  },
  {
   "cell_type": "code",
   "execution_count": 1,
   "metadata": {},
   "outputs": [
    {
     "data": {
      "text/plain": [
       "array([1, 2, 4])"
      ]
     },
     "execution_count": 1,
     "metadata": {},
     "output_type": "execute_result"
    }
   ],
   "source": [
    "import numpy as np\n",
    "a = np.array([1, 2, 4])\n",
    "a"
   ]
  },
  {
   "cell_type": "code",
   "execution_count": 2,
   "metadata": {},
   "outputs": [
    {
     "data": {
      "text/plain": [
       "((3,), 1, 3, dtype('int64'), 8, <memory at 0x7f3adc455048>)"
      ]
     },
     "execution_count": 2,
     "metadata": {},
     "output_type": "execute_result"
    }
   ],
   "source": [
    "a.shape, a.ndim, a.size, a.dtype, a.itemsize, a.data # attributes of ndarray class"
   ]
  },
  {
   "cell_type": "code",
   "execution_count": 3,
   "metadata": {},
   "outputs": [
    {
     "data": {
      "text/plain": [
       "numpy.ndarray"
      ]
     },
     "execution_count": 3,
     "metadata": {},
     "output_type": "execute_result"
    }
   ],
   "source": [
    "type(a)"
   ]
  },
  {
   "cell_type": "markdown",
   "metadata": {},
   "source": [
    "### Creating Arrays"
   ]
  },
  {
   "cell_type": "code",
   "execution_count": 4,
   "metadata": {},
   "outputs": [],
   "source": [
    "b = np.array([             # a 2-d array\n",
    "    [1, 3, 4], [1, 0 , -1] # np data types include intx, floatx, uintx (unsigned), bool_, \n",
    "], dtype = np.int8)        # complex64, complex128; where x is number of bits per element: 8, 16, ...\n",
    "                           "
   ]
  },
  {
   "cell_type": "code",
   "execution_count": 5,
   "metadata": {},
   "outputs": [
    {
     "data": {
      "text/plain": [
       "((2, 3), 6, 1)"
      ]
     },
     "execution_count": 5,
     "metadata": {},
     "output_type": "execute_result"
    }
   ],
   "source": [
    "b.shape, b.size, b.itemsize"
   ]
  },
  {
   "cell_type": "code",
   "execution_count": 6,
   "metadata": {},
   "outputs": [
    {
     "data": {
      "text/plain": [
       "array([[0., 0., 0.],\n",
       "       [0., 0., 0.]])"
      ]
     },
     "execution_count": 6,
     "metadata": {},
     "output_type": "execute_result"
    }
   ],
   "source": [
    "np.zeros([2,3]) # creates a 2 x 3 array and fills it with 0s with dtype = float64"
   ]
  },
  {
   "cell_type": "code",
   "execution_count": 7,
   "metadata": {},
   "outputs": [
    {
     "data": {
      "text/plain": [
       "array([[ True,  True,  True,  True,  True,  True,  True]])"
      ]
     },
     "execution_count": 7,
     "metadata": {},
     "output_type": "execute_result"
    }
   ],
   "source": [
    "np.ones([1, 7], dtype = np.bool_)"
   ]
  },
  {
   "cell_type": "code",
   "execution_count": 8,
   "metadata": {},
   "outputs": [
    {
     "data": {
      "text/plain": [
       "array([[2.75859453e-313, 1.43279037e-322, 4.65231435e-310]])"
      ]
     },
     "execution_count": 8,
     "metadata": {},
     "output_type": "execute_result"
    }
   ],
   "source": [
    "np.empty([1, 3]) # randomly initialized contents"
   ]
  },
  {
   "cell_type": "code",
   "execution_count": 9,
   "metadata": {},
   "outputs": [
    {
     "data": {
      "text/plain": [
       "array([ True,  True,  True,  True,  True,  True,  True,  True,  True,\n",
       "        True,  True,  True,  True,  True,  True,  True,  True,  True,\n",
       "        True,  True,  True,  True,  True])"
      ]
     },
     "execution_count": 9,
     "metadata": {},
     "output_type": "execute_result"
    }
   ],
   "source": [
    "np.arange(23) == np.array(range(23)) # arange() creates array similar to python's range"
   ]
  },
  {
   "cell_type": "markdown",
   "metadata": {},
   "source": [
    "^Even the comparison operation is vectorized...\n",
    "\n",
    "To have a normal comparison, we can use `all` function"
   ]
  },
  {
   "cell_type": "code",
   "execution_count": 10,
   "metadata": {},
   "outputs": [
    {
     "data": {
      "text/plain": [
       "True"
      ]
     },
     "execution_count": 10,
     "metadata": {},
     "output_type": "execute_result"
    }
   ],
   "source": [
    "np.all(np.arange(23) == np.array(range(23)))"
   ]
  },
  {
   "cell_type": "code",
   "execution_count": 11,
   "metadata": {},
   "outputs": [
    {
     "data": {
      "text/plain": [
       "array([0.        , 0.33333333, 0.66666667])"
      ]
     },
     "execution_count": 11,
     "metadata": {},
     "output_type": "execute_result"
    }
   ],
   "source": [
    "np.arange(0, 1, 0.333333333333333333) # arange unlike range accepts float arguments"
   ]
  },
  {
   "cell_type": "markdown",
   "metadata": {},
   "source": [
    "although, linspace is preferred over arange because of limitations of floating precision."
   ]
  },
  {
   "cell_type": "code",
   "execution_count": 12,
   "metadata": {},
   "outputs": [
    {
     "data": {
      "text/plain": [
       "array([0.        , 0.33333333, 0.66666667, 1.        ])"
      ]
     },
     "execution_count": 12,
     "metadata": {},
     "output_type": "execute_result"
    }
   ],
   "source": [
    "np.linspace(0, 1, 4) # third argument denotes the size of result array"
   ]
  },
  {
   "cell_type": "code",
   "execution_count": 13,
   "metadata": {},
   "outputs": [
    {
     "data": {
      "text/plain": [
       "array([[0, 0, 0],\n",
       "       [0, 0, 0]], dtype=int8)"
      ]
     },
     "execution_count": 13,
     "metadata": {},
     "output_type": "execute_result"
    }
   ],
   "source": [
    "np.zeros_like(b) # creates zero array with the dimensions of b"
   ]
  },
  {
   "cell_type": "code",
   "execution_count": 14,
   "metadata": {},
   "outputs": [
    {
     "data": {
      "text/plain": [
       "array([[10],\n",
       "       [10]])"
      ]
     },
     "execution_count": 14,
     "metadata": {},
     "output_type": "execute_result"
    }
   ],
   "source": [
    "np.full([2, 1], 10)"
   ]
  },
  {
   "cell_type": "code",
   "execution_count": 15,
   "metadata": {
    "scrolled": true
   },
   "outputs": [
    {
     "data": {
      "text/plain": [
       "array([[[0.09829473, 0.11115475, 0.91604417],\n",
       "        [0.66527935, 0.03885723, 0.69493732],\n",
       "        [0.53555173, 0.97023474, 0.05054188],\n",
       "        [0.03954294, 0.33112942, 0.52000864]],\n",
       "\n",
       "       [[0.87794669, 0.85581071, 0.88604739],\n",
       "        [0.12829817, 0.00371892, 0.09143216],\n",
       "        [0.95483109, 0.23239437, 0.11398243],\n",
       "        [0.24222798, 0.59806898, 0.85572201]]])"
      ]
     },
     "execution_count": 15,
     "metadata": {},
     "output_type": "execute_result"
    }
   ],
   "source": [
    "# 2 elts in first level each of which contains \n",
    "# 4 elts each, each of which have 3 integers\n",
    "# first level corresponds to axis 0, second to \n",
    "# axis 1 and so on...\n",
    "np.random.rand(2, 4, 3) # np.random is pretty interesting, we'll come back to it later"
   ]
  },
  {
   "cell_type": "code",
   "execution_count": 16,
   "metadata": {},
   "outputs": [
    {
     "data": {
      "text/plain": [
       "array([[ 0, -1, -2],\n",
       "       [ 1,  0, -1]])"
      ]
     },
     "execution_count": 16,
     "metadata": {},
     "output_type": "execute_result"
    }
   ],
   "source": [
    "def f(x, y):\n",
    "    return x - y\n",
    "np.fromfunction(f, (2,3), dtype = int) # create a np array from a function"
   ]
  },
  {
   "cell_type": "code",
   "execution_count": 17,
   "metadata": {},
   "outputs": [
    {
     "name": "stdout",
     "output_type": "stream",
     "text": [
      "[[[[  1   2   3]\n",
      "   [  9   2   4]]\n",
      "\n",
      "  [[  3   0  -1]\n",
      "   [  4   7  -5]]]\n",
      "\n",
      "\n",
      " [[[  5   0  -5]\n",
      "   [  2   1   8]]\n",
      "\n",
      "  [[  0   0   1]\n",
      "   [-15   3  11]]]]\n",
      "(2, 2, 2, 3)\n"
     ]
    }
   ],
   "source": [
    "c = np.array([\n",
    "    [\n",
    "        [[1, 2, 3], [9, 2, 4]],            # This shows how np arrays are printed\n",
    "        [[3, 0, -1], [4, 7, -5]] \n",
    "    ],\n",
    "    [\n",
    "        [[5, 0, -5], [2, 1, 8]],\n",
    "        [[0, 0, 1], [-15, 3, 11]]\n",
    "    ]\n",
    "])\n",
    "print(c)\n",
    "print(c.shape)"
   ]
  },
  {
   "cell_type": "markdown",
   "metadata": {},
   "source": [
    "### Operations on Arrays"
   ]
  },
  {
   "cell_type": "markdown",
   "metadata": {},
   "source": [
    "As we've seen before all **binary operations** are performed **element-wise**. Let's try out a few..."
   ]
  },
  {
   "cell_type": "code",
   "execution_count": 18,
   "metadata": {},
   "outputs": [
    {
     "data": {
      "text/plain": [
       "array([ 0,  3,  6,  9, 12])"
      ]
     },
     "execution_count": 18,
     "metadata": {},
     "output_type": "execute_result"
    }
   ],
   "source": [
    "x = 3\n",
    "y = np.arange(5)\n",
    "x * y                # x scaled before taking product"
   ]
  },
  {
   "cell_type": "code",
   "execution_count": 19,
   "metadata": {},
   "outputs": [
    {
     "data": {
      "text/plain": [
       "(array([0.  , 0.25, 0.5 , 0.75, 1.  ]), array([0, 1, 2, 3, 4]))"
      ]
     },
     "execution_count": 19,
     "metadata": {},
     "output_type": "execute_result"
    }
   ],
   "source": [
    "x = np.linspace(4, 5, 5) - 4\n",
    "x, y"
   ]
  },
  {
   "cell_type": "code",
   "execution_count": 20,
   "metadata": {},
   "outputs": [
    {
     "data": {
      "text/plain": [
       "(array([0.  , 1.25, 2.5 , 3.75, 5.  ]),\n",
       " array([ 0.  , -0.75, -1.5 , -2.25, -3.  ]),\n",
       " array([0.  , 0.25, 1.  , 2.25, 4.  ]),\n",
       " array([False,  True,  True,  True,  True]),\n",
       " array([0. , 0.5, 1. , 1.5, 2. ]),\n",
       " array([1, 0, 3, 2, 5]))"
      ]
     },
     "execution_count": 20,
     "metadata": {},
     "output_type": "execute_result"
    }
   ],
   "source": [
    "x + y, x - y, x * y, x < y, y / 2, y ^ 1 # standard element by element operations on arrays"
   ]
  },
  {
   "cell_type": "code",
   "execution_count": 21,
   "metadata": {},
   "outputs": [
    {
     "data": {
      "text/plain": [
       "array([-1.  , -0.75, -0.5 , -0.25,  0.  ])"
      ]
     },
     "execution_count": 21,
     "metadata": {},
     "output_type": "execute_result"
    }
   ],
   "source": [
    "x -= 1\n",
    "x"
   ]
  },
  {
   "cell_type": "markdown",
   "metadata": {},
   "source": [
    "We can do matrix multiplication using `@` operator or `dot` function."
   ]
  },
  {
   "cell_type": "code",
   "execution_count": 22,
   "metadata": {},
   "outputs": [
    {
     "data": {
      "text/plain": [
       "array([[0.+2.j],\n",
       "       [1.-2.j]])"
      ]
     },
     "execution_count": 22,
     "metadata": {},
     "output_type": "execute_result"
    }
   ],
   "source": [
    "np.array([[0, 1j], [1, -1j]]) @ np.array([[1], [2]])"
   ]
  },
  {
   "cell_type": "markdown",
   "metadata": {},
   "source": [
    "We can take dot product between two vectors `a` and `b` as follows:"
   ]
  },
  {
   "cell_type": "code",
   "execution_count": 23,
   "metadata": {},
   "outputs": [
    {
     "data": {
      "text/plain": [
       "4"
      ]
     },
     "execution_count": 23,
     "metadata": {},
     "output_type": "execute_result"
    }
   ],
   "source": [
    "a = np.array([2, 0, 1, -1])\n",
    "b = np.array([1, -1, 3, 1])\n",
    "a @ b.transpose() # transpose is a unary operation discussed below"
   ]
  },
  {
   "cell_type": "markdown",
   "metadata": {},
   "source": [
    "Next, we see how to carry out **unary operations**."
   ]
  },
  {
   "cell_type": "code",
   "execution_count": 24,
   "metadata": {},
   "outputs": [
    {
     "data": {
      "text/plain": [
       "array([[[[  1,   2,   3],\n",
       "         [  9,   2,   4]],\n",
       "\n",
       "        [[  3,   0,  -1],\n",
       "         [  4,   7,  -5]]],\n",
       "\n",
       "\n",
       "       [[[  5,   0,  -5],\n",
       "         [  2,   1,   8]],\n",
       "\n",
       "        [[  0,   0,   1],\n",
       "         [-15,   3,  11]]]])"
      ]
     },
     "execution_count": 24,
     "metadata": {},
     "output_type": "execute_result"
    }
   ],
   "source": [
    "c"
   ]
  },
  {
   "cell_type": "code",
   "execution_count": 25,
   "metadata": {},
   "outputs": [
    {
     "data": {
      "text/plain": [
       "(-15, 11, 40, 1.6666666666666667, 5.096294950473552)"
      ]
     },
     "execution_count": 25,
     "metadata": {},
     "output_type": "execute_result"
    }
   ],
   "source": [
    "c.min(), c.max(), c.sum(), c.mean(), c.std() # Unary operations on ndarray"
   ]
  },
  {
   "cell_type": "markdown",
   "metadata": {},
   "source": [
    "We can also specify which `axis` to use to perform these unary operations. For any numpy array, `axis = 0` is the first dimension, `axis = 1` is second and so on...\n",
    "If we take max over first dimension, we see that we have two 2x2x3 elements in the first dimension. So, max operation should return the max of those. Let's see how it does that.\n",
    "P.S. keepdims is used to preserve the original number of dimensions."
   ]
  },
  {
   "cell_type": "code",
   "execution_count": 26,
   "metadata": {},
   "outputs": [
    {
     "name": "stdout",
     "output_type": "stream",
     "text": [
      "[[[[ 5  2  3]\n",
      "   [ 9  2  8]]\n",
      "\n",
      "  [[ 3  0  1]\n",
      "   [ 4  7 11]]]]\n",
      "(1, 2, 2, 3)\n"
     ]
    }
   ],
   "source": [
    "m = c.max(axis = 0, keepdims = True)\n",
    "print(m)\n",
    "print(m.shape)"
   ]
  },
  {
   "cell_type": "markdown",
   "metadata": {},
   "source": [
    "So, it compared integers in each flattened 2x2x3 elements one by one and picked the max of the two. Let's see what happens when we take max across second dimension. "
   ]
  },
  {
   "cell_type": "code",
   "execution_count": 27,
   "metadata": {},
   "outputs": [
    {
     "name": "stdout",
     "output_type": "stream",
     "text": [
      "[[[[ 3  2  3]\n",
      "   [ 9  7  4]]]\n",
      "\n",
      "\n",
      " [[[ 5  0  1]\n",
      "   [ 2  3 11]]]]\n",
      "(2, 1, 2, 3)\n"
     ]
    }
   ],
   "source": [
    "m = c.max(axis = 1, keepdims = True)\n",
    "print(m)\n",
    "print(m.shape)"
   ]
  },
  {
   "cell_type": "markdown",
   "metadata": {},
   "source": [
    "The same thing happens, except now the integers of 2x3 array are compared piecewise."
   ]
  },
  {
   "cell_type": "code",
   "execution_count": 28,
   "metadata": {},
   "outputs": [
    {
     "data": {
      "text/plain": [
       "array([[[[  1,   3,   6],\n",
       "         [  9,  11,  15]],\n",
       "\n",
       "        [[  3,   3,   2],\n",
       "         [  4,  11,   6]]],\n",
       "\n",
       "\n",
       "       [[[  5,   5,   0],\n",
       "         [  2,   3,  11]],\n",
       "\n",
       "        [[  0,   0,   1],\n",
       "         [-15, -12,  -1]]]])"
      ]
     },
     "execution_count": 28,
     "metadata": {},
     "output_type": "execute_result"
    }
   ],
   "source": [
    "c.cumsum(axis = 3) # We can take cumulative sum too"
   ]
  },
  {
   "cell_type": "markdown",
   "metadata": {},
   "source": [
    "NumPy also defines **Universal Functions (`ufunc`)** which takes one or two array(s) as input and output a single array containing the result of the corresponding element-wise/unary operation. Examples include `add`, `multiply`, `power`, `mod`, `vdot`, `fabs`, `sign`, `exp`, `log`, etc."
   ]
  },
  {
   "cell_type": "markdown",
   "metadata": {},
   "source": [
    "### Indexing"
   ]
  },
  {
   "cell_type": "markdown",
   "metadata": {},
   "source": [
    "For most of the time, ndarrays work nicely like python lists. They can be indexed, sliced, iterated upon, etc."
   ]
  },
  {
   "cell_type": "code",
   "execution_count": 29,
   "metadata": {},
   "outputs": [
    {
     "data": {
      "text/plain": [
       "(array([ 2,  0,  1, -1]), array([ 1, -1,  3,  1]))"
      ]
     },
     "execution_count": 29,
     "metadata": {},
     "output_type": "execute_result"
    }
   ],
   "source": [
    "a, b"
   ]
  },
  {
   "cell_type": "code",
   "execution_count": 30,
   "metadata": {},
   "outputs": [
    {
     "data": {
      "text/plain": [
       "(0, 3)"
      ]
     },
     "execution_count": 30,
     "metadata": {},
     "output_type": "execute_result"
    }
   ],
   "source": [
    "a[1], b[2] # Indexing the array like lists"
   ]
  },
  {
   "cell_type": "code",
   "execution_count": 31,
   "metadata": {},
   "outputs": [
    {
     "data": {
      "text/plain": [
       "(array([0, 1]), array([3, 1]))"
      ]
     },
     "execution_count": 31,
     "metadata": {},
     "output_type": "execute_result"
    }
   ],
   "source": [
    "a[1:3], b[2:] # array slicing"
   ]
  },
  {
   "cell_type": "code",
   "execution_count": 32,
   "metadata": {},
   "outputs": [
    {
     "data": {
      "text/plain": [
       "(array([3, 2, 1, 0]), array([-1, 10, -1, 11]))"
      ]
     },
     "execution_count": 32,
     "metadata": {},
     "output_type": "execute_result"
    }
   ],
   "source": [
    "a[::-1] = np.arange(4) # extended slicing\n",
    "b[1::2] = [10, 11] # works because list is array_like\n",
    "b[0::2] = -1 # again works because scalars are array_like\n",
    "a, b"
   ]
  },
  {
   "cell_type": "code",
   "execution_count": 33,
   "metadata": {},
   "outputs": [
    {
     "name": "stdout",
     "output_type": "stream",
     "text": [
      "3 + 2 + 1 + 0 = 6"
     ]
    }
   ],
   "source": [
    "print(*a, sep = ' + ', end = \" = \" + str(a.sum())) # Works just as a list would"
   ]
  },
  {
   "cell_type": "markdown",
   "metadata": {},
   "source": [
    "For multidimensional arrays, we have an index for each axis."
   ]
  },
  {
   "cell_type": "code",
   "execution_count": 34,
   "metadata": {},
   "outputs": [
    {
     "data": {
      "text/plain": [
       "array([[[[  1,   2,   3],\n",
       "         [  9,   2,   4]],\n",
       "\n",
       "        [[  3,   0,  -1],\n",
       "         [  4,   7,  -5]]],\n",
       "\n",
       "\n",
       "       [[[  5,   0,  -5],\n",
       "         [  2,   1,   8]],\n",
       "\n",
       "        [[  0,   0,   1],\n",
       "         [-15,   3,  11]]]])"
      ]
     },
     "execution_count": 34,
     "metadata": {},
     "output_type": "execute_result"
    }
   ],
   "source": [
    "c"
   ]
  },
  {
   "cell_type": "code",
   "execution_count": 35,
   "metadata": {},
   "outputs": [
    {
     "data": {
      "text/plain": [
       "-15"
      ]
     },
     "execution_count": 35,
     "metadata": {},
     "output_type": "execute_result"
    }
   ],
   "source": [
    "c[1, 1, 1, 0] # the smallest element"
   ]
  },
  {
   "cell_type": "code",
   "execution_count": 36,
   "metadata": {},
   "outputs": [
    {
     "data": {
      "text/plain": [
       "array([2, 2, 0, 7, 0, 1, 0, 3])"
      ]
     },
     "execution_count": 36,
     "metadata": {},
     "output_type": "execute_result"
    }
   ],
   "source": [
    "c[:,:,:,1].flatten() # all elements in the second column "
   ]
  },
  {
   "cell_type": "code",
   "execution_count": 37,
   "metadata": {},
   "outputs": [
    {
     "data": {
      "text/plain": [
       "array([2, 2, 0, 7, 0, 1, 0, 3])"
      ]
     },
     "execution_count": 37,
     "metadata": {},
     "output_type": "execute_result"
    }
   ],
   "source": [
    "c[...,1].flatten() # flatten returns a copy whereas ravel avoids it if possible"
   ]
  },
  {
   "cell_type": "markdown",
   "metadata": {},
   "source": [
    "Here 3 dots (...) represent that all indices are to be included at those positions. It's very similar to the notation of writing an IPv6 address in short form. For e.g. `c[0,:,:,1]` is equivalent to `c[0,...,1]`."
   ]
  },
  {
   "cell_type": "code",
   "execution_count": 38,
   "metadata": {},
   "outputs": [
    {
     "data": {
      "text/plain": [
       "array([[[  5,   0,  -5],\n",
       "        [  2,   1,   8]],\n",
       "\n",
       "       [[  0,   0,   1],\n",
       "        [-15,   3,  11]]])"
      ]
     },
     "execution_count": 38,
     "metadata": {},
     "output_type": "execute_result"
    }
   ],
   "source": [
    "c[1] # equivalent to c[1,...]"
   ]
  },
  {
   "cell_type": "markdown",
   "metadata": {},
   "source": [
    "[np.newaxis][1] is just an alias for `None`. It allows us to add an extra dimension while slicing an array.\n",
    "\n",
    "[1]: https://docs.scipy.org/doc/numpy/reference/constants.html#numpy.newaxis"
   ]
  },
  {
   "cell_type": "code",
   "execution_count": 39,
   "metadata": {},
   "outputs": [
    {
     "data": {
      "text/plain": [
       "array([[[[  5],\n",
       "         [  0],\n",
       "         [ -5]],\n",
       "\n",
       "        [[  2],\n",
       "         [  1],\n",
       "         [  8]]],\n",
       "\n",
       "\n",
       "       [[[  0],\n",
       "         [  0],\n",
       "         [  1]],\n",
       "\n",
       "        [[-15],\n",
       "         [  3],\n",
       "         [ 11]]]])"
      ]
     },
     "execution_count": 39,
     "metadata": {},
     "output_type": "execute_result"
    }
   ],
   "source": [
    "c[1,..., np.newaxis] # it's the same array as above, but with an extra dimension"
   ]
  },
  {
   "cell_type": "code",
   "execution_count": 40,
   "metadata": {},
   "outputs": [
    {
     "name": "stdout",
     "output_type": "stream",
     "text": [
      "[[[ 1  2  3]\n",
      "  [ 9  2  4]]\n",
      "\n",
      " [[ 3  0 -1]\n",
      "  [ 4  7 -5]]]\n",
      "-----------------\n",
      "[[[  5   0  -5]\n",
      "  [  2   1   8]]\n",
      "\n",
      " [[  0   0   1]\n",
      "  [-15   3  11]]]\n"
     ]
    }
   ],
   "source": [
    "print(*c, sep = \"\\n\" + \"-\"*17 + \"\\n\") # iterating in multidimensional arrays"
   ]
  },
  {
   "cell_type": "markdown",
   "metadata": {},
   "source": [
    "### Shape modifying operations"
   ]
  },
  {
   "cell_type": "markdown",
   "metadata": {},
   "source": [
    "We can reshape the array by using `ravel`/`flatten`, `transpose` (as seen before) and `reshape`. We can also stack two arrays together."
   ]
  },
  {
   "cell_type": "code",
   "execution_count": 41,
   "metadata": {},
   "outputs": [
    {
     "data": {
      "text/plain": [
       "array([  1,   2,   3,   9,   2,   4,   3,   0,  -1,   4,   7,  -5,   5,\n",
       "         0,  -5,   2,   1,   8,   0,   0,   1, -15,   3,  11])"
      ]
     },
     "execution_count": 41,
     "metadata": {},
     "output_type": "execute_result"
    }
   ],
   "source": [
    "c.ravel()"
   ]
  },
  {
   "cell_type": "code",
   "execution_count": 42,
   "metadata": {},
   "outputs": [
    {
     "data": {
      "text/plain": [
       "array([[  1,   2,   3,   9],\n",
       "       [  2,   4,   3,   0],\n",
       "       [ -1,   4,   7,  -5],\n",
       "       [  5,   0,  -5,   2],\n",
       "       [  1,   8,   0,   0],\n",
       "       [  1, -15,   3,  11]])"
      ]
     },
     "execution_count": 42,
     "metadata": {},
     "output_type": "execute_result"
    }
   ],
   "source": [
    "c.reshape(6, 4) # returns a new array with modified shape"
   ]
  },
  {
   "cell_type": "code",
   "execution_count": 43,
   "metadata": {},
   "outputs": [
    {
     "data": {
      "text/plain": [
       "array([[  1,   2,  -1,   5,   1,   1],\n",
       "       [  2,   4,   4,   0,   8, -15],\n",
       "       [  3,   3,   7,  -5,   0,   3],\n",
       "       [  9,   0,  -5,   2,   0,  11]])"
      ]
     },
     "execution_count": 43,
     "metadata": {},
     "output_type": "execute_result"
    }
   ],
   "source": [
    "c.reshape(6, -1).T # the second dimension is calculated automatically"
   ]
  },
  {
   "cell_type": "code",
   "execution_count": 44,
   "metadata": {},
   "outputs": [
    {
     "data": {
      "text/plain": [
       "(False, False, True)"
      ]
     },
     "execution_count": 44,
     "metadata": {},
     "output_type": "execute_result"
    }
   ],
   "source": [
    "x = np.array(c) # creates a deep copy of c\n",
    "x is c, x.base is c, x.flags.owndata"
   ]
  },
  {
   "cell_type": "code",
   "execution_count": 45,
   "metadata": {},
   "outputs": [
    {
     "data": {
      "text/plain": [
       "array([[  1,   2,   3,   9],\n",
       "       [  2,   4,   3,   0],\n",
       "       [ -1,   4,   7,  -5],\n",
       "       [  5,   0,  -5,   2],\n",
       "       [  1,   8,   0,   0],\n",
       "       [  1, -15,   3,  11]])"
      ]
     },
     "execution_count": 45,
     "metadata": {},
     "output_type": "execute_result"
    }
   ],
   "source": [
    "x.shape = 6, -1 # equivalent to x.resize(6, -1)\n",
    "x"
   ]
  },
  {
   "cell_type": "code",
   "execution_count": 46,
   "metadata": {},
   "outputs": [
    {
     "data": {
      "text/plain": [
       "(array([3, 2, 1, 0]), array([-1, 10, -1, 11]))"
      ]
     },
     "execution_count": 46,
     "metadata": {},
     "output_type": "execute_result"
    }
   ],
   "source": [
    "a, b"
   ]
  },
  {
   "cell_type": "code",
   "execution_count": 47,
   "metadata": {},
   "outputs": [
    {
     "data": {
      "text/plain": [
       "array([ 3,  2,  1,  0, -1, 10, -1, 11])"
      ]
     },
     "execution_count": 47,
     "metadata": {},
     "output_type": "execute_result"
    }
   ],
   "source": [
    "np.hstack((a,b)) # concatenates along second axis"
   ]
  },
  {
   "cell_type": "code",
   "execution_count": 48,
   "metadata": {},
   "outputs": [
    {
     "data": {
      "text/plain": [
       "array([[ 3,  2,  1,  0],\n",
       "       [-1, 10, -1, 11]])"
      ]
     },
     "execution_count": 48,
     "metadata": {},
     "output_type": "execute_result"
    }
   ],
   "source": [
    "np.vstack((a,b)) # concatenates along first axis"
   ]
  },
  {
   "cell_type": "markdown",
   "metadata": {},
   "source": [
    "A more general function to use is [concatenate][1].\n",
    "\n",
    "Function [split][2] does the opposite of `stack`.\n",
    "\n",
    "[1]: https://docs.scipy.org/doc/numpy/reference/generated/numpy.concatenate.html#numpy.concatenate\n",
    "[2]: https://docs.scipy.org/doc/numpy/reference/generated/numpy.split.html#numpy.split"
   ]
  },
  {
   "cell_type": "code",
   "execution_count": 49,
   "metadata": {},
   "outputs": [
    {
     "name": "stdout",
     "output_type": "stream",
     "text": [
      "[[  1   2]\n",
      " [  2   4]\n",
      " [ -1   4]\n",
      " [  5   0]\n",
      " [  1   8]\n",
      " [  1 -15]]\n",
      "[[ 3  9]\n",
      " [ 3  0]\n",
      " [ 7 -5]\n",
      " [-5  2]\n",
      " [ 0  0]\n",
      " [ 3 11]]\n"
     ]
    }
   ],
   "source": [
    "print(*np.hsplit(c.reshape(6, -1), 2), sep=\"\\n\")"
   ]
  },
  {
   "cell_type": "markdown",
   "metadata": {},
   "source": [
    "The function [column_stack][1] takes as i/p a tuple of 1D arrays and outputs a 2D array with it's column vectors as the original 1D arrays.\n",
    "\n",
    "[1]: https://docs.scipy.org/doc/numpy/reference/generated/numpy.column_stack.html#numpy.column_stack"
   ]
  },
  {
   "cell_type": "code",
   "execution_count": 50,
   "metadata": {},
   "outputs": [
    {
     "data": {
      "text/plain": [
       "(array([3, 2, 1, 0]), array([-1, 10, -1, 11]))"
      ]
     },
     "execution_count": 50,
     "metadata": {},
     "output_type": "execute_result"
    }
   ],
   "source": [
    "a, b"
   ]
  },
  {
   "cell_type": "code",
   "execution_count": 51,
   "metadata": {},
   "outputs": [
    {
     "data": {
      "text/plain": [
       "array([[ 3, -1],\n",
       "       [ 2, 10],\n",
       "       [ 1, -1],\n",
       "       [ 0, 11]])"
      ]
     },
     "execution_count": 51,
     "metadata": {},
     "output_type": "execute_result"
    }
   ],
   "source": [
    "np.column_stack((a, b))"
   ]
  },
  {
   "cell_type": "markdown",
   "metadata": {},
   "source": [
    "Although `a.T` is same as `a` for any 1D array `a` ([see why][1]), we can take transpose of `a` by slicing it with an extra dimension ([discussed above](#Indexing)). But, it's not necessary to do so.\n",
    "\n",
    "[1]: https://stackoverflow.com/a/5954747/7263373"
   ]
  },
  {
   "cell_type": "code",
   "execution_count": 52,
   "metadata": {},
   "outputs": [
    {
     "data": {
      "text/plain": [
       "array([[3],\n",
       "       [2],\n",
       "       [1],\n",
       "       [0]])"
      ]
     },
     "execution_count": 52,
     "metadata": {},
     "output_type": "execute_result"
    }
   ],
   "source": [
    "a[:, np.newaxis]"
   ]
  },
  {
   "cell_type": "markdown",
   "metadata": {},
   "source": [
    "### Array Views (Shallow Copy) "
   ]
  },
  {
   "cell_type": "markdown",
   "metadata": {},
   "source": [
    "A view is a numpy array that holds reference to the elements of another array. Slices returns views."
   ]
  },
  {
   "cell_type": "code",
   "execution_count": 53,
   "metadata": {},
   "outputs": [
    {
     "data": {
      "text/plain": [
       "(numpy.ndarray, False, True, False)"
      ]
     },
     "execution_count": 53,
     "metadata": {},
     "output_type": "execute_result"
    }
   ],
   "source": [
    "x = c.view()\n",
    "type(x), x is c, x.base is c, x.flags.owndata"
   ]
  },
  {
   "cell_type": "code",
   "execution_count": 54,
   "metadata": {},
   "outputs": [
    {
     "data": {
      "text/plain": [
       "array([  1,   2,   3,   9,   2,   4,   3,   0,  -1,   4,   7,  -5,   5,\n",
       "         0,  -5,   2,   1,   8,   0,   0,   1, -15,   3,  11])"
      ]
     },
     "execution_count": 54,
     "metadata": {},
     "output_type": "execute_result"
    }
   ],
   "source": [
    "x = x.ravel()\n",
    "x"
   ]
  },
  {
   "cell_type": "code",
   "execution_count": 55,
   "metadata": {},
   "outputs": [
    {
     "data": {
      "text/plain": [
       "array([[[[  4,   2,   3],\n",
       "         [  9,   2,   4]],\n",
       "\n",
       "        [[  3,   0,  -1],\n",
       "         [  4,   7,  -5]]],\n",
       "\n",
       "\n",
       "       [[[  5,   0,  -5],\n",
       "         [  2,   1,   8]],\n",
       "\n",
       "        [[  0,   0,   1],\n",
       "         [-15,   3,  11]]]])"
      ]
     },
     "execution_count": 55,
     "metadata": {},
     "output_type": "execute_result"
    }
   ],
   "source": [
    "x[0] = 4 # changes c's data\n",
    "c"
   ]
  },
  {
   "cell_type": "code",
   "execution_count": 56,
   "metadata": {},
   "outputs": [
    {
     "data": {
      "text/plain": [
       "(array([[  4,   2,   3,   9,   2,   4],\n",
       "        [  3,   0,  -1,   4,   7,  -5],\n",
       "        [  5,   0,  -5,   2,   1,   8],\n",
       "        [  0,   0,   1, -15,   3,  11]]),\n",
       " array([  4,   2,   3,   9,   2,   4,   3,   0,  -1,   4,   7,  -5,   5,\n",
       "          0,  -5,   2,   1,   8,   0,   0,   1, -15,   3,  11]))"
      ]
     },
     "execution_count": 56,
     "metadata": {},
     "output_type": "execute_result"
    }
   ],
   "source": [
    "y = x[...] # returns a view of x, similar to x[:]\n",
    "y.shape = 4, -1\n",
    "y, x"
   ]
  },
  {
   "cell_type": "code",
   "execution_count": 57,
   "metadata": {},
   "outputs": [
    {
     "data": {
      "text/plain": [
       "array([[[[ 10,   2,   3],\n",
       "         [  9,   2,   4]],\n",
       "\n",
       "        [[  3,   0,  -1],\n",
       "         [  4,   7,  -5]]],\n",
       "\n",
       "\n",
       "       [[[  5,   0,  -5],\n",
       "         [  2,   1,   8]],\n",
       "\n",
       "        [[  0,   0,   1],\n",
       "         [-15,   3,  11]]]])"
      ]
     },
     "execution_count": 57,
     "metadata": {},
     "output_type": "execute_result"
    }
   ],
   "source": [
    "y[0, 0] = 10 # changes c again\n",
    "c"
   ]
  },
  {
   "cell_type": "markdown",
   "metadata": {},
   "source": [
    "As we've seen [above](#Shape-modifying-operations), deep copy can be made using the standard `array` function. Another way is to use the copy function."
   ]
  },
  {
   "cell_type": "code",
   "execution_count": 58,
   "metadata": {},
   "outputs": [
    {
     "data": {
      "text/plain": [
       "(False, False, True)"
      ]
     },
     "execution_count": 58,
     "metadata": {},
     "output_type": "execute_result"
    }
   ],
   "source": [
    "x = y.copy()\n",
    "x is a, x.base is a, x.flags.owndata"
   ]
  },
  {
   "cell_type": "markdown",
   "metadata": {},
   "source": [
    "## Understanding Broadcasting\n",
    "During broadcasting, the last dimensions of the two arrays are compared. If both are equal or one of them is one, then we move forward, else an exception is raised. The dimension with 1 element only is scaled to match with the other one. Let's see an examples.\n",
    "\n",
    "|Array|Shape|\n",
    "|:---|---:|\n",
    "|x|2x1x5|\n",
    "|y|   3x1|\n",
    "|x + y| 2x3x5|"
   ]
  },
  {
   "cell_type": "code",
   "execution_count": 59,
   "metadata": {},
   "outputs": [
    {
     "name": "stdout",
     "output_type": "stream",
     "text": [
      "[[[0 1 2 3 4]]\n",
      "\n",
      " [[5 6 7 8 9]]]\n",
      "----------------\n",
      "[[0. ]\n",
      " [0.5]\n",
      " [1. ]]\n",
      "----------------\n",
      "[[[ 0.   1.   2.   3.   4. ]\n",
      "  [ 0.5  1.5  2.5  3.5  4.5]\n",
      "  [ 1.   2.   3.   4.   5. ]]\n",
      "\n",
      " [[ 5.   6.   7.   8.   9. ]\n",
      "  [ 5.5  6.5  7.5  8.5  9.5]\n",
      "  [ 6.   7.   8.   9.  10. ]]]\n"
     ]
    }
   ],
   "source": [
    "x = np.arange(10).reshape(2, 1, 5)\n",
    "y = np.linspace(0, 1, 3).reshape(3, 1)\n",
    "print(x)\n",
    "print(\"-\"*16)\n",
    "print(y)\n",
    "print(\"-\"*16)\n",
    "print(x + y)"
   ]
  },
  {
   "cell_type": "markdown",
   "metadata": {},
   "source": [
    "Let's see how this works. \n",
    "\n",
    "First `y` is stretched to become a `3x5` array. Thus `y` becomes\n",
    "```python\n",
    "[[0. , 0. , 0. , 0. , 0. ],\n",
    " [0.5, 0.5, 0.5, 0.5, 0.5],\n",
    " [1. , 1. , 1. , 1. , 1. ]]\n",
    "```\n",
    "Then we add an extra outer dimension (first dimension) to `y`. Then, it is stretched to a `2x3x5` array.\n",
    "```python\n",
    "[[[0.   0.   0.   0.   0. ]\n",
    "  [0.5  0.5  0.5  0.5  0.5]\n",
    "  [1.   1.   1.   1.   1. ]]\n",
    "\n",
    " [[0.   0.   0.   0.   0. ]\n",
    "  [0.5  0.5  0.5  0.5  0.5]\n",
    "  [1.   1.   1.   1.   1. ]]]\n",
    "```\n",
    "Similarly, `x` is scaled to a `2x3x5` array. Therefore, `x` becomes\n",
    "```python\n",
    "[[[0., 1., 2., 3., 4.],\n",
    "  [0., 1., 2., 3., 4.],\n",
    "  [0., 1., 2., 3., 4.]],\n",
    "\n",
    " [[5., 6., 7., 8., 9.],\n",
    "  [5., 6., 7., 8., 9.],\n",
    "  [5., 6., 7., 8., 9.]]]\n",
    "```\n",
    "The addition from here is pretty straightforward. Of course, the stretching/scaling is hypothetical. NumPy is smart enought to not make duplicates."
   ]
  },
  {
   "cell_type": "markdown",
   "metadata": {},
   "source": [
    "### Advanced Indexing features"
   ]
  },
  {
   "cell_type": "markdown",
   "metadata": {},
   "source": [
    "Next, we discuss advanced indexing features provided by NumPy not available in conventional python lists."
   ]
  },
  {
   "cell_type": "code",
   "execution_count": 60,
   "metadata": {},
   "outputs": [
    {
     "data": {
      "text/plain": [
       "array([ 0,  2, 10,  0,  4])"
      ]
     },
     "execution_count": 60,
     "metadata": {},
     "output_type": "execute_result"
    }
   ],
   "source": [
    "x = np.arange(15) * 2\n",
    "i = [0, 1, 5, 0, 2] # list of indices\n",
    "x[i]"
   ]
  },
  {
   "cell_type": "code",
   "execution_count": 61,
   "metadata": {},
   "outputs": [
    {
     "data": {
      "text/plain": [
       "array([[0, 2, 0],\n",
       "       [2, 8, 6]])"
      ]
     },
     "execution_count": 61,
     "metadata": {},
     "output_type": "execute_result"
    }
   ],
   "source": [
    "ii = np.array([[0, 1, 0], [1, 4, 3]]) # multidimensional index arrays\n",
    "x[ii]"
   ]
  },
  {
   "cell_type": "markdown",
   "metadata": {},
   "source": [
    "We have to use numpy array for the multidimensional index list otherwise NumPy throws an exception."
   ]
  },
  {
   "cell_type": "markdown",
   "metadata": {},
   "source": [
    "Here, `ii` specified the indices for the first dimension of the i/p array. We can see it more clearly by doing same on multidimensional array."
   ]
  },
  {
   "cell_type": "code",
   "execution_count": 62,
   "metadata": {},
   "outputs": [
    {
     "data": {
      "text/plain": [
       "array([[ 0,  1,  2,  3,  4,  5,  6,  7,  8,  9],\n",
       "       [10, 11, 12, 13, 14, 15, 16, 17, 18, 19],\n",
       "       [20, 21, 22, 23, 24, 25, 26, 27, 28, 29],\n",
       "       [30, 31, 32, 33, 34, 35, 36, 37, 38, 39],\n",
       "       [40, 41, 42, 43, 44, 45, 46, 47, 48, 49]])"
      ]
     },
     "execution_count": 62,
     "metadata": {},
     "output_type": "execute_result"
    }
   ],
   "source": [
    "x = np.arange(50).reshape(-1, 10) # ith row start with 10*i and ends with 10*i + 9\n",
    "x"
   ]
  },
  {
   "cell_type": "code",
   "execution_count": 63,
   "metadata": {},
   "outputs": [
    {
     "data": {
      "text/plain": [
       "array([[[ 0,  1,  2,  3,  4,  5,  6,  7,  8,  9],\n",
       "        [10, 11, 12, 13, 14, 15, 16, 17, 18, 19],\n",
       "        [ 0,  1,  2,  3,  4,  5,  6,  7,  8,  9]],\n",
       "\n",
       "       [[10, 11, 12, 13, 14, 15, 16, 17, 18, 19],\n",
       "        [40, 41, 42, 43, 44, 45, 46, 47, 48, 49],\n",
       "        [30, 31, 32, 33, 34, 35, 36, 37, 38, 39]]])"
      ]
     },
     "execution_count": 63,
     "metadata": {},
     "output_type": "execute_result"
    }
   ],
   "source": [
    "x[ii]"
   ]
  },
  {
   "cell_type": "markdown",
   "metadata": {},
   "source": [
    "We can also specify an array of indices for each dimension like we did before for single indices."
   ]
  },
  {
   "cell_type": "code",
   "execution_count": 64,
   "metadata": {},
   "outputs": [
    {
     "data": {
      "text/plain": [
       "array([[[ 0,  1,  2,  3,  4,  5,  6,  7,  8,  9],\n",
       "        [20, 21, 22, 23, 24, 25, 26, 27, 28, 29]],\n",
       "\n",
       "       [[30, 31, 32, 33, 34, 35, 36, 37, 38, 39],\n",
       "        [40, 41, 42, 43, 44, 45, 46, 47, 48, 49]]])"
      ]
     },
     "execution_count": 64,
     "metadata": {},
     "output_type": "execute_result"
    }
   ],
   "source": [
    "i = np.array([[0, 2], [3, 4]]) # First dimension indices, corresponds to [0th, 2nd] and [3rd, 4th] rows\n",
    "x[i]"
   ]
  },
  {
   "cell_type": "code",
   "execution_count": 65,
   "metadata": {},
   "outputs": [
    {
     "data": {
      "text/plain": [
       "array([[[ 5,  5],\n",
       "        [ 0,  8]],\n",
       "\n",
       "       [[15, 15],\n",
       "        [10, 18]],\n",
       "\n",
       "       [[25, 25],\n",
       "        [20, 28]],\n",
       "\n",
       "       [[35, 35],\n",
       "        [30, 38]],\n",
       "\n",
       "       [[45, 45],\n",
       "        [40, 48]]])"
      ]
     },
     "execution_count": 65,
     "metadata": {},
     "output_type": "execute_result"
    }
   ],
   "source": [
    "j = np.array([[5, 5], [0, 8]]) # Second dimension indices, corresponds to columns\n",
    "x[:,j]"
   ]
  },
  {
   "cell_type": "markdown",
   "metadata": {},
   "source": [
    "And finally"
   ]
  },
  {
   "cell_type": "code",
   "execution_count": 66,
   "metadata": {},
   "outputs": [
    {
     "data": {
      "text/plain": [
       "array([[ 5, 25],\n",
       "       [30, 48]])"
      ]
     },
     "execution_count": 66,
     "metadata": {},
     "output_type": "execute_result"
    }
   ],
   "source": [
    "x[i, j] # equivalent to x[(i, j)] or x[l] where l = [i, j]"
   ]
  },
  {
   "cell_type": "code",
   "execution_count": 67,
   "metadata": {},
   "outputs": [
    {
     "data": {
      "text/plain": [
       "array([[ 0,  1,  2,  3,  4, -1,  6,  7,  8,  9],\n",
       "       [10, 11, 12, 13, 14, 15, 16, 17, 18, 19],\n",
       "       [20, 21, 22, 23, 24, -1, 26, 27, 28, 29],\n",
       "       [-1, 31, 32, 33, 34, 35, 36, 37, 38, 39],\n",
       "       [40, 41, 42, 43, 44, 45, 46, 47, -1, 49]])"
      ]
     },
     "execution_count": 67,
     "metadata": {},
     "output_type": "execute_result"
    }
   ],
   "source": [
    "x[i, j] = -1 # Assignment still works\n",
    "x"
   ]
  },
  {
   "cell_type": "markdown",
   "metadata": {},
   "source": [
    "We can also index with boolean arrays where each elements specifies whether or not to choose the particular dimension/element."
   ]
  },
  {
   "cell_type": "code",
   "execution_count": 68,
   "metadata": {},
   "outputs": [
    {
     "data": {
      "text/plain": [
       "array([-1, -1, -1, -1])"
      ]
     },
     "execution_count": 68,
     "metadata": {},
     "output_type": "execute_result"
    }
   ],
   "source": [
    "y = x == -1 # Of same shape as x\n",
    "x[y]"
   ]
  },
  {
   "cell_type": "code",
   "execution_count": 69,
   "metadata": {},
   "outputs": [
    {
     "data": {
      "text/plain": [
       "array([[ 0,  1,  2,  3,  4, 50,  6,  7,  8,  9],\n",
       "       [10, 11, 12, 13, 14, 15, 16, 17, 18, 19],\n",
       "       [20, 21, 22, 23, 24, 50, 26, 27, 28, 29],\n",
       "       [50, 31, 32, 33, 34, 35, 36, 37, 38, 39],\n",
       "       [40, 41, 42, 43, 44, 45, 46, 47, 50, 49]])"
      ]
     },
     "execution_count": 69,
     "metadata": {},
     "output_type": "execute_result"
    }
   ],
   "source": [
    "x[y] = 50\n",
    "x"
   ]
  }
 ],
 "metadata": {
  "kernelspec": {
   "display_name": "Python 3",
   "language": "python",
   "name": "python3"
  },
  "language_info": {
   "codemirror_mode": {
    "name": "ipython",
    "version": 3
   },
   "file_extension": ".py",
   "mimetype": "text/x-python",
   "name": "python",
   "nbconvert_exporter": "python",
   "pygments_lexer": "ipython3",
   "version": "3.6.7"
  }
 },
 "nbformat": 4,
 "nbformat_minor": 2
}
